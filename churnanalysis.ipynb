{
 "cells": [
  {
   "cell_type": "code",
   "execution_count": 1,
   "metadata": {},
   "outputs": [],
   "source": [
    "import pandas as pd\n",
    "import sqlite3"
   ]
  },
  {
   "cell_type": "code",
   "execution_count": 2,
   "metadata": {},
   "outputs": [],
   "source": [
    "%reload_ext sql"
   ]
  },
  {
   "cell_type": "code",
   "execution_count": 3,
   "metadata": {},
   "outputs": [],
   "source": [
    "%sql sqlite:///custchurndb.db"
   ]
  },
  {
   "cell_type": "code",
   "execution_count": 4,
   "metadata": {},
   "outputs": [
    {
     "name": "stdout",
     "output_type": "stream",
     "text": [
      "*  sqlite:///custchurndb.db\n",
      "Done.\n"
     ]
    },
    {
     "data": {
      "text/html": [
       "<table>\n",
       "    <thead>\n",
       "        <tr>\n",
       "            <th>Customer_ID</th>\n",
       "            <th>Gender</th>\n",
       "            <th>Age</th>\n",
       "            <th>Married</th>\n",
       "            <th>Number_of_Dependents</th>\n",
       "            <th>City</th>\n",
       "            <th>Zip_Code</th>\n",
       "            <th>Latitude</th>\n",
       "            <th>Longitude</th>\n",
       "            <th>Number_of_Referrals</th>\n",
       "            <th>Tenure_in_Months</th>\n",
       "            <th>Offer</th>\n",
       "            <th>Phone_Service</th>\n",
       "            <th>Avg_Monthly_Long_Distance_Charges</th>\n",
       "            <th>Multiple_Lines</th>\n",
       "            <th>Internet_Service</th>\n",
       "            <th>Internet_Type</th>\n",
       "            <th>Avg_Monthly_GB_Download</th>\n",
       "            <th>Online_Security</th>\n",
       "            <th>Online_Backup</th>\n",
       "            <th>Device_Protection_Plan</th>\n",
       "            <th>Premium_Tech_Support</th>\n",
       "            <th>Streaming_TV</th>\n",
       "            <th>Streaming_Movies</th>\n",
       "            <th>Streaming_Music</th>\n",
       "            <th>Unlimited_Data</th>\n",
       "            <th>Contract</th>\n",
       "            <th>Paperless_Billing</th>\n",
       "            <th>Payment_Method</th>\n",
       "            <th>Monthly_Charge</th>\n",
       "            <th>Total_Charges</th>\n",
       "            <th>Total_Refunds</th>\n",
       "            <th>Total_Extra_Data_Charges</th>\n",
       "            <th>Total_Long_Distance_Charges</th>\n",
       "            <th>Total_Revenue</th>\n",
       "            <th>Customer_Status</th>\n",
       "            <th>Churn_Category</th>\n",
       "            <th>Churn_Reason</th>\n",
       "        </tr>\n",
       "    </thead>\n",
       "    <tbody>\n",
       "        <tr>\n",
       "            <td>0002-ORFBO</td>\n",
       "            <td>Female</td>\n",
       "            <td>37</td>\n",
       "            <td>Yes</td>\n",
       "            <td>0</td>\n",
       "            <td>Frazier Park</td>\n",
       "            <td>93225</td>\n",
       "            <td>34.827662</td>\n",
       "            <td>-118.999073</td>\n",
       "            <td>2</td>\n",
       "            <td>9</td>\n",
       "            <td>None</td>\n",
       "            <td>Yes</td>\n",
       "            <td>42.39</td>\n",
       "            <td>No</td>\n",
       "            <td>Yes</td>\n",
       "            <td>Cable</td>\n",
       "            <td>16</td>\n",
       "            <td>No</td>\n",
       "            <td>Yes</td>\n",
       "            <td>No</td>\n",
       "            <td>Yes</td>\n",
       "            <td>Yes</td>\n",
       "            <td>No</td>\n",
       "            <td>No</td>\n",
       "            <td>Yes</td>\n",
       "            <td>One Year</td>\n",
       "            <td>Yes</td>\n",
       "            <td>Credit Card</td>\n",
       "            <td>65.6</td>\n",
       "            <td>593.3</td>\n",
       "            <td>0</td>\n",
       "            <td>0</td>\n",
       "            <td>381.51</td>\n",
       "            <td>974.81</td>\n",
       "            <td>Stayed</td>\n",
       "            <td>None</td>\n",
       "            <td>None</td>\n",
       "        </tr>\n",
       "        <tr>\n",
       "            <td>0003-MKNFE</td>\n",
       "            <td>Male</td>\n",
       "            <td>46</td>\n",
       "            <td>No</td>\n",
       "            <td>0</td>\n",
       "            <td>Glendale</td>\n",
       "            <td>91206</td>\n",
       "            <td>34.162515</td>\n",
       "            <td>-118.203869</td>\n",
       "            <td>0</td>\n",
       "            <td>9</td>\n",
       "            <td>None</td>\n",
       "            <td>Yes</td>\n",
       "            <td>10.69</td>\n",
       "            <td>Yes</td>\n",
       "            <td>Yes</td>\n",
       "            <td>Cable</td>\n",
       "            <td>10</td>\n",
       "            <td>No</td>\n",
       "            <td>No</td>\n",
       "            <td>No</td>\n",
       "            <td>No</td>\n",
       "            <td>No</td>\n",
       "            <td>Yes</td>\n",
       "            <td>Yes</td>\n",
       "            <td>No</td>\n",
       "            <td>Month-to-Month</td>\n",
       "            <td>No</td>\n",
       "            <td>Credit Card</td>\n",
       "            <td>-4.0</td>\n",
       "            <td>542.4</td>\n",
       "            <td>38.33</td>\n",
       "            <td>10</td>\n",
       "            <td>96.21</td>\n",
       "            <td>610.28</td>\n",
       "            <td>Stayed</td>\n",
       "            <td>None</td>\n",
       "            <td>None</td>\n",
       "        </tr>\n",
       "        <tr>\n",
       "            <td>0004-TLHLJ</td>\n",
       "            <td>Male</td>\n",
       "            <td>50</td>\n",
       "            <td>No</td>\n",
       "            <td>0</td>\n",
       "            <td>Costa Mesa</td>\n",
       "            <td>92627</td>\n",
       "            <td>33.645672</td>\n",
       "            <td>-117.922613</td>\n",
       "            <td>0</td>\n",
       "            <td>4</td>\n",
       "            <td>Offer E</td>\n",
       "            <td>Yes</td>\n",
       "            <td>33.65</td>\n",
       "            <td>No</td>\n",
       "            <td>Yes</td>\n",
       "            <td>Fiber Optic</td>\n",
       "            <td>30</td>\n",
       "            <td>No</td>\n",
       "            <td>No</td>\n",
       "            <td>Yes</td>\n",
       "            <td>No</td>\n",
       "            <td>No</td>\n",
       "            <td>No</td>\n",
       "            <td>No</td>\n",
       "            <td>Yes</td>\n",
       "            <td>Month-to-Month</td>\n",
       "            <td>Yes</td>\n",
       "            <td>Bank Withdrawal</td>\n",
       "            <td>73.9</td>\n",
       "            <td>280.85</td>\n",
       "            <td>0</td>\n",
       "            <td>0</td>\n",
       "            <td>134.6</td>\n",
       "            <td>415.45</td>\n",
       "            <td>Churned</td>\n",
       "            <td>Competitor</td>\n",
       "            <td>Competitor had better devices</td>\n",
       "        </tr>\n",
       "        <tr>\n",
       "            <td>0011-IGKFF</td>\n",
       "            <td>Male</td>\n",
       "            <td>78</td>\n",
       "            <td>Yes</td>\n",
       "            <td>0</td>\n",
       "            <td>Martinez</td>\n",
       "            <td>94553</td>\n",
       "            <td>38.014457</td>\n",
       "            <td>-122.115432</td>\n",
       "            <td>1</td>\n",
       "            <td>13</td>\n",
       "            <td>Offer D</td>\n",
       "            <td>Yes</td>\n",
       "            <td>27.82</td>\n",
       "            <td>No</td>\n",
       "            <td>Yes</td>\n",
       "            <td>Fiber Optic</td>\n",
       "            <td>4</td>\n",
       "            <td>No</td>\n",
       "            <td>Yes</td>\n",
       "            <td>Yes</td>\n",
       "            <td>No</td>\n",
       "            <td>Yes</td>\n",
       "            <td>Yes</td>\n",
       "            <td>No</td>\n",
       "            <td>Yes</td>\n",
       "            <td>Month-to-Month</td>\n",
       "            <td>Yes</td>\n",
       "            <td>Bank Withdrawal</td>\n",
       "            <td>98.0</td>\n",
       "            <td>1237.85</td>\n",
       "            <td>0</td>\n",
       "            <td>0</td>\n",
       "            <td>361.66</td>\n",
       "            <td>1599.51</td>\n",
       "            <td>Churned</td>\n",
       "            <td>Dissatisfaction</td>\n",
       "            <td>Product dissatisfaction</td>\n",
       "        </tr>\n",
       "        <tr>\n",
       "            <td>0013-EXCHZ</td>\n",
       "            <td>Female</td>\n",
       "            <td>75</td>\n",
       "            <td>Yes</td>\n",
       "            <td>0</td>\n",
       "            <td>Camarillo</td>\n",
       "            <td>93010</td>\n",
       "            <td>34.227846</td>\n",
       "            <td>-119.079903</td>\n",
       "            <td>3</td>\n",
       "            <td>3</td>\n",
       "            <td>None</td>\n",
       "            <td>Yes</td>\n",
       "            <td>7.38</td>\n",
       "            <td>No</td>\n",
       "            <td>Yes</td>\n",
       "            <td>Fiber Optic</td>\n",
       "            <td>11</td>\n",
       "            <td>No</td>\n",
       "            <td>No</td>\n",
       "            <td>No</td>\n",
       "            <td>Yes</td>\n",
       "            <td>Yes</td>\n",
       "            <td>No</td>\n",
       "            <td>No</td>\n",
       "            <td>Yes</td>\n",
       "            <td>Month-to-Month</td>\n",
       "            <td>Yes</td>\n",
       "            <td>Credit Card</td>\n",
       "            <td>83.9</td>\n",
       "            <td>267.4</td>\n",
       "            <td>0</td>\n",
       "            <td>0</td>\n",
       "            <td>22.14</td>\n",
       "            <td>289.54</td>\n",
       "            <td>Churned</td>\n",
       "            <td>Dissatisfaction</td>\n",
       "            <td>Network reliability</td>\n",
       "        </tr>\n",
       "    </tbody>\n",
       "</table>"
      ],
      "text/plain": [
       "[('0002-ORFBO', 'Female', 37, 'Yes', 0, 'Frazier Park', 93225, 34.827662, -118.999073, 2, 9, 'None', 'Yes', '42.39', 'No', 'Yes', 'Cable', 16, 'No', 'Yes', 'No', 'Yes', 'Yes', 'No', 'No', 'Yes', 'One Year', 'Yes', 'Credit Card', 65.6, 593.3, 0, 0, 381.51, 974.81, 'Stayed', None, None),\n",
       " ('0003-MKNFE', 'Male', 46, 'No', 0, 'Glendale', 91206, 34.162515, -118.203869, 0, 9, 'None', 'Yes', '10.69', 'Yes', 'Yes', 'Cable', 10, 'No', 'No', 'No', 'No', 'No', 'Yes', 'Yes', 'No', 'Month-to-Month', 'No', 'Credit Card', -4.0, 542.4, 38.33, 10, 96.21, 610.28, 'Stayed', None, None),\n",
       " ('0004-TLHLJ', 'Male', 50, 'No', 0, 'Costa Mesa', 92627, 33.645672, -117.922613, 0, 4, 'Offer E', 'Yes', '33.65', 'No', 'Yes', 'Fiber Optic', 30, 'No', 'No', 'Yes', 'No', 'No', 'No', 'No', 'Yes', 'Month-to-Month', 'Yes', 'Bank Withdrawal', 73.9, 280.85, 0, 0, 134.6, 415.45, 'Churned', 'Competitor', 'Competitor had better devices'),\n",
       " ('0011-IGKFF', 'Male', 78, 'Yes', 0, 'Martinez', 94553, 38.014457, -122.115432, 1, 13, 'Offer D', 'Yes', '27.82', 'No', 'Yes', 'Fiber Optic', 4, 'No', 'Yes', 'Yes', 'No', 'Yes', 'Yes', 'No', 'Yes', 'Month-to-Month', 'Yes', 'Bank Withdrawal', 98.0, 1237.85, 0, 0, 361.66, 1599.51, 'Churned', 'Dissatisfaction', 'Product dissatisfaction'),\n",
       " ('0013-EXCHZ', 'Female', 75, 'Yes', 0, 'Camarillo', 93010, 34.227846, -119.079903, 3, 3, 'None', 'Yes', '7.38', 'No', 'Yes', 'Fiber Optic', 11, 'No', 'No', 'No', 'Yes', 'Yes', 'No', 'No', 'Yes', 'Month-to-Month', 'Yes', 'Credit Card', 83.9, 267.4, 0, 0, 22.14, 289.54, 'Churned', 'Dissatisfaction', 'Network reliability')]"
      ]
     },
     "execution_count": 4,
     "metadata": {},
     "output_type": "execute_result"
    }
   ],
   "source": [
    "%%sql\n",
    "\n",
    "SELECT * FROM churndata LIMIT 5;"
   ]
  },
  {
   "attachments": {},
   "cell_type": "markdown",
   "metadata": {},
   "source": [
    "# Customer Analysis"
   ]
  },
  {
   "attachments": {},
   "cell_type": "markdown",
   "metadata": {},
   "source": [
    "**Total Customers in the dataset**"
   ]
  },
  {
   "cell_type": "code",
   "execution_count": 5,
   "metadata": {},
   "outputs": [
    {
     "name": "stdout",
     "output_type": "stream",
     "text": [
      "*  sqlite:///custchurndb.db\n",
      "Done.\n"
     ]
    },
    {
     "data": {
      "text/html": [
       "<table>\n",
       "    <thead>\n",
       "        <tr>\n",
       "            <th>Total Customers</th>\n",
       "        </tr>\n",
       "    </thead>\n",
       "    <tbody>\n",
       "        <tr>\n",
       "            <td>7043</td>\n",
       "        </tr>\n",
       "    </tbody>\n",
       "</table>"
      ],
      "text/plain": [
       "[(7043,)]"
      ]
     },
     "execution_count": 5,
     "metadata": {},
     "output_type": "execute_result"
    }
   ],
   "source": [
    "%%sql\n",
    "\n",
    "SELECT count(*) as 'Total Customers' FROM churndata;"
   ]
  },
  {
   "attachments": {},
   "cell_type": "markdown",
   "metadata": {},
   "source": [
    "**How many customers have churned, joined, and stayed?**"
   ]
  },
  {
   "cell_type": "code",
   "execution_count": 6,
   "metadata": {},
   "outputs": [
    {
     "name": "stdout",
     "output_type": "stream",
     "text": [
      "*  sqlite:///custchurndb.db\n",
      "Done.\n"
     ]
    },
    {
     "data": {
      "text/html": [
       "<table>\n",
       "    <thead>\n",
       "        <tr>\n",
       "            <th>Customer_Status</th>\n",
       "            <th>Total Customers</th>\n",
       "        </tr>\n",
       "    </thead>\n",
       "    <tbody>\n",
       "        <tr>\n",
       "            <td>Churned</td>\n",
       "            <td>1869</td>\n",
       "        </tr>\n",
       "        <tr>\n",
       "            <td>Joined</td>\n",
       "            <td>454</td>\n",
       "        </tr>\n",
       "        <tr>\n",
       "            <td>Stayed</td>\n",
       "            <td>4720</td>\n",
       "        </tr>\n",
       "    </tbody>\n",
       "</table>"
      ],
      "text/plain": [
       "[('Churned', 1869), ('Joined', 454), ('Stayed', 4720)]"
      ]
     },
     "execution_count": 6,
     "metadata": {},
     "output_type": "execute_result"
    }
   ],
   "source": [
    "%%sql\n",
    "\n",
    "SELECT customer_status,count(*) as 'Total Customers' \n",
    "FROM churndata \n",
    "GROUP BY customer_status;"
   ]
  },
  {
   "attachments": {},
   "cell_type": "markdown",
   "metadata": {},
   "source": [
    "**What is the average montly charge for customers who churned, joined, and stayed?**"
   ]
  },
  {
   "cell_type": "code",
   "execution_count": 7,
   "metadata": {},
   "outputs": [
    {
     "name": "stdout",
     "output_type": "stream",
     "text": [
      "*  sqlite:///custchurndb.db\n",
      "Done.\n"
     ]
    },
    {
     "data": {
      "text/html": [
       "<table>\n",
       "    <thead>\n",
       "        <tr>\n",
       "            <th>Status</th>\n",
       "            <th>Average Charge for Churned Customers</th>\n",
       "        </tr>\n",
       "    </thead>\n",
       "    <tbody>\n",
       "        <tr>\n",
       "            <td>Churned</td>\n",
       "            <td>$73.35</td>\n",
       "        </tr>\n",
       "        <tr>\n",
       "            <td>Joined</td>\n",
       "            <td>$42.78</td>\n",
       "        </tr>\n",
       "        <tr>\n",
       "            <td>Stayed</td>\n",
       "            <td>$61.74</td>\n",
       "        </tr>\n",
       "    </tbody>\n",
       "</table>"
      ],
      "text/plain": [
       "[('Churned', '$73.35'), ('Joined', '$42.78'), ('Stayed', '$61.74')]"
      ]
     },
     "execution_count": 7,
     "metadata": {},
     "output_type": "execute_result"
    }
   ],
   "source": [
    "%%sql\n",
    "\n",
    "SELECT customer_status as 'Status',\n",
    "FORMAT(\"$%.2f\",avg(Monthly_Charge)) as 'Average Charge for Churned Customers'\n",
    "FROM churndata \n",
    "GROUP BY customer_status;"
   ]
  },
  {
   "attachments": {},
   "cell_type": "markdown",
   "metadata": {},
   "source": [
    "**What is the average charge based on internet type?**"
   ]
  },
  {
   "cell_type": "code",
   "execution_count": 8,
   "metadata": {},
   "outputs": [
    {
     "name": "stdout",
     "output_type": "stream",
     "text": [
      "*  sqlite:///custchurndb.db\n",
      "Done.\n"
     ]
    },
    {
     "data": {
      "text/html": [
       "<table>\n",
       "    <thead>\n",
       "        <tr>\n",
       "            <th>Internet Type</th>\n",
       "            <th>Average Charge for Customers</th>\n",
       "        </tr>\n",
       "    </thead>\n",
       "    <tbody>\n",
       "        <tr>\n",
       "            <td>Cable</td>\n",
       "            <td>$59.36</td>\n",
       "        </tr>\n",
       "        <tr>\n",
       "            <td>DSL</td>\n",
       "            <td>$56.79</td>\n",
       "        </tr>\n",
       "        <tr>\n",
       "            <td>Fiber Optic</td>\n",
       "            <td>$90.07</td>\n",
       "        </tr>\n",
       "    </tbody>\n",
       "</table>"
      ],
      "text/plain": [
       "[('Cable', '$59.36'), ('DSL', '$56.79'), ('Fiber Optic', '$90.07')]"
      ]
     },
     "execution_count": 8,
     "metadata": {},
     "output_type": "execute_result"
    }
   ],
   "source": [
    "%%sql\n",
    "\n",
    "SELECT internet_type as 'Internet Type',\n",
    "FORMAT(\"$%.2f\",avg(Monthly_Charge)) as 'Average Charge for Customers'\n",
    "FROM churndata\n",
    "WHERE internet_type != 'None' \n",
    "GROUP BY Internet_type;"
   ]
  },
  {
   "attachments": {},
   "cell_type": "markdown",
   "metadata": {},
   "source": [
    "**What is the total revenue generated by the company?**"
   ]
  },
  {
   "cell_type": "code",
   "execution_count": 9,
   "metadata": {},
   "outputs": [
    {
     "name": "stdout",
     "output_type": "stream",
     "text": [
      "*  sqlite:///custchurndb.db\n",
      "Done.\n"
     ]
    },
    {
     "data": {
      "text/html": [
       "<table>\n",
       "    <thead>\n",
       "        <tr>\n",
       "            <th>Total Revenue</th>\n",
       "        </tr>\n",
       "    </thead>\n",
       "    <tbody>\n",
       "        <tr>\n",
       "            <td>$21371131.69</td>\n",
       "        </tr>\n",
       "    </tbody>\n",
       "</table>"
      ],
      "text/plain": [
       "[('$21371131.69',)]"
      ]
     },
     "execution_count": 9,
     "metadata": {},
     "output_type": "execute_result"
    }
   ],
   "source": [
    "%%sql\n",
    "\n",
    "SELECT FORMAT(\"$%.2f\",sum(Total_Revenue)) as 'Total Revenue' \n",
    "FROM churndata; "
   ]
  },
  {
   "attachments": {},
   "cell_type": "markdown",
   "metadata": {},
   "source": [
    "**What are the top ten cities with the most customers? Show how many customers stayed and churned from these cities.**"
   ]
  },
  {
   "cell_type": "code",
   "execution_count": 10,
   "metadata": {},
   "outputs": [
    {
     "name": "stdout",
     "output_type": "stream",
     "text": [
      "*  sqlite:///custchurndb.db\n",
      "Done.\n"
     ]
    },
    {
     "data": {
      "text/html": [
       "<table>\n",
       "    <thead>\n",
       "        <tr>\n",
       "            <th>City</th>\n",
       "            <th>Total Customers</th>\n",
       "            <th>Churned Customers</th>\n",
       "            <th>Stayed Customers</th>\n",
       "        </tr>\n",
       "    </thead>\n",
       "    <tbody>\n",
       "        <tr>\n",
       "            <td>Los Angeles</td>\n",
       "            <td>293</td>\n",
       "            <td>78</td>\n",
       "            <td>197</td>\n",
       "        </tr>\n",
       "        <tr>\n",
       "            <td>San Diego</td>\n",
       "            <td>285</td>\n",
       "            <td>185</td>\n",
       "            <td>93</td>\n",
       "        </tr>\n",
       "        <tr>\n",
       "            <td>San Jose</td>\n",
       "            <td>112</td>\n",
       "            <td>29</td>\n",
       "            <td>81</td>\n",
       "        </tr>\n",
       "        <tr>\n",
       "            <td>Sacramento</td>\n",
       "            <td>108</td>\n",
       "            <td>26</td>\n",
       "            <td>76</td>\n",
       "        </tr>\n",
       "        <tr>\n",
       "            <td>San Francisco</td>\n",
       "            <td>104</td>\n",
       "            <td>31</td>\n",
       "            <td>66</td>\n",
       "        </tr>\n",
       "        <tr>\n",
       "            <td>Fresno</td>\n",
       "            <td>61</td>\n",
       "            <td>13</td>\n",
       "            <td>48</td>\n",
       "        </tr>\n",
       "        <tr>\n",
       "            <td>Long Beach</td>\n",
       "            <td>60</td>\n",
       "            <td>15</td>\n",
       "            <td>43</td>\n",
       "        </tr>\n",
       "        <tr>\n",
       "            <td>Oakland</td>\n",
       "            <td>52</td>\n",
       "            <td>13</td>\n",
       "            <td>34</td>\n",
       "        </tr>\n",
       "        <tr>\n",
       "            <td>Escondido</td>\n",
       "            <td>51</td>\n",
       "            <td>16</td>\n",
       "            <td>32</td>\n",
       "        </tr>\n",
       "        <tr>\n",
       "            <td>Stockton</td>\n",
       "            <td>44</td>\n",
       "            <td>12</td>\n",
       "            <td>29</td>\n",
       "        </tr>\n",
       "    </tbody>\n",
       "</table>"
      ],
      "text/plain": [
       "[('Los Angeles', 293, 78, 197),\n",
       " ('San Diego', 285, 185, 93),\n",
       " ('San Jose', 112, 29, 81),\n",
       " ('Sacramento', 108, 26, 76),\n",
       " ('San Francisco', 104, 31, 66),\n",
       " ('Fresno', 61, 13, 48),\n",
       " ('Long Beach', 60, 15, 43),\n",
       " ('Oakland', 52, 13, 34),\n",
       " ('Escondido', 51, 16, 32),\n",
       " ('Stockton', 44, 12, 29)]"
      ]
     },
     "execution_count": 10,
     "metadata": {},
     "output_type": "execute_result"
    }
   ],
   "source": [
    "%%sql\n",
    "\n",
    "SELECT City, count(Customer_ID) as 'Total Customers', \n",
    "count(case when customer_status = 'Churned' then Customer_ID end) as 'Churned Customers', \n",
    "count(case when customer_status = 'Stayed' then Customer_ID end) as 'Stayed Customers'\n",
    "FROM churndata\n",
    "GROUP BY City\n",
    "ORDER BY count(Customer_ID) DESC\n",
    "LIMIT 10;"
   ]
  },
  {
   "attachments": {},
   "cell_type": "markdown",
   "metadata": {},
   "source": [
    "# Churn Analysis"
   ]
  },
  {
   "attachments": {},
   "cell_type": "markdown",
   "metadata": {},
   "source": [
    "**What is the leading category for customer churn?**"
   ]
  },
  {
   "cell_type": "code",
   "execution_count": 11,
   "metadata": {},
   "outputs": [
    {
     "name": "stdout",
     "output_type": "stream",
     "text": [
      "*  sqlite:///custchurndb.db\n",
      "Done.\n"
     ]
    },
    {
     "data": {
      "text/html": [
       "<table>\n",
       "    <thead>\n",
       "        <tr>\n",
       "            <th>Churn_Category</th>\n",
       "            <th>Count</th>\n",
       "        </tr>\n",
       "    </thead>\n",
       "    <tbody>\n",
       "        <tr>\n",
       "            <td>Competitor</td>\n",
       "            <td>841</td>\n",
       "        </tr>\n",
       "        <tr>\n",
       "            <td>Dissatisfaction</td>\n",
       "            <td>321</td>\n",
       "        </tr>\n",
       "        <tr>\n",
       "            <td>Attitude</td>\n",
       "            <td>314</td>\n",
       "        </tr>\n",
       "        <tr>\n",
       "            <td>Price</td>\n",
       "            <td>211</td>\n",
       "        </tr>\n",
       "        <tr>\n",
       "            <td>Other</td>\n",
       "            <td>182</td>\n",
       "        </tr>\n",
       "    </tbody>\n",
       "</table>"
      ],
      "text/plain": [
       "[('Competitor', 841),\n",
       " ('Dissatisfaction', 321),\n",
       " ('Attitude', 314),\n",
       " ('Price', 211),\n",
       " ('Other', 182)]"
      ]
     },
     "execution_count": 11,
     "metadata": {},
     "output_type": "execute_result"
    }
   ],
   "source": [
    "%%sql\n",
    "\n",
    "SELECT Churn_Category,\n",
    "count(customer_id) as 'Count'\n",
    "FROM churndata\n",
    "WHERE Churn_Category != 'None'\n",
    "GROUP BY Churn_Category\n",
    "ORDER BY count(customer_id) DESC;\n"
   ]
  },
  {
   "attachments": {},
   "cell_type": "markdown",
   "metadata": {},
   "source": [
    "**What is the percentage of customers that churned and stayed based on the contract?**"
   ]
  },
  {
   "cell_type": "code",
   "execution_count": 12,
   "metadata": {},
   "outputs": [
    {
     "name": "stdout",
     "output_type": "stream",
     "text": [
      "*  sqlite:///custchurndb.db\n",
      "Done.\n"
     ]
    },
    {
     "data": {
      "text/html": [
       "<table>\n",
       "    <thead>\n",
       "        <tr>\n",
       "            <th>Customer_Status</th>\n",
       "            <th>Month-to-Month</th>\n",
       "            <th>One Year</th>\n",
       "            <th>Two Year</th>\n",
       "        </tr>\n",
       "    </thead>\n",
       "    <tbody>\n",
       "        <tr>\n",
       "            <td>Churned</td>\n",
       "            <td>51%</td>\n",
       "            <td>10%</td>\n",
       "            <td> 2%</td>\n",
       "        </tr>\n",
       "        <tr>\n",
       "            <td>Stayed</td>\n",
       "            <td>48%</td>\n",
       "            <td>89%</td>\n",
       "            <td>97%</td>\n",
       "        </tr>\n",
       "    </tbody>\n",
       "</table>"
      ],
      "text/plain": [
       "[('Churned', '51%', '10%', ' 2%'), ('Stayed', '48%', '89%', '97%')]"
      ]
     },
     "execution_count": 12,
     "metadata": {},
     "output_type": "execute_result"
    }
   ],
   "source": [
    "%%sql\n",
    "\n",
    "SELECT \n",
    "customer_status,\n",
    "format('%2d%%',count(case when contract = 'Month-to-Month' then contract end)*100/(select count(case when contract = 'Month-to-Month' then contract end) from churndata where customer_status !='Joined')) as 'Month-to-Month',\n",
    "format('%2d%%',count(case when contract = 'One Year' then contract end)*100/(select count(case when contract = 'One Year' then contract end) from churndata where customer_status !='Joined')) as 'One Year',\n",
    "format('%2d%%',count(case when contract = 'Two Year' then contract end)*100/(select count(case when contract = 'Two Year' then contract end) from churndata where customer_status !='Joined')) as 'Two Year'\n",
    "FROM churndata\n",
    "WHERE customer_status != 'Joined'\n",
    "GROUP BY customer_status;"
   ]
  },
  {
   "attachments": {},
   "cell_type": "markdown",
   "metadata": {},
   "source": [
    "Looks like month-to-month contracts have a much higher churn rate than any other contract."
   ]
  },
  {
   "attachments": {},
   "cell_type": "markdown",
   "metadata": {},
   "source": [
    "**What is the percentage of customers that churned and stayed based on Internet Service?**"
   ]
  },
  {
   "cell_type": "code",
   "execution_count": 13,
   "metadata": {},
   "outputs": [
    {
     "name": "stdout",
     "output_type": "stream",
     "text": [
      "*  sqlite:///custchurndb.db\n",
      "Done.\n"
     ]
    },
    {
     "data": {
      "text/html": [
       "<table>\n",
       "    <thead>\n",
       "        <tr>\n",
       "            <th>Customer_Status</th>\n",
       "            <th>Cable</th>\n",
       "            <th>DSL</th>\n",
       "            <th>Fiber Optic</th>\n",
       "        </tr>\n",
       "    </thead>\n",
       "    <tbody>\n",
       "        <tr>\n",
       "            <td>Churned</td>\n",
       "            <td>27%</td>\n",
       "            <td>19%</td>\n",
       "            <td>42%</td>\n",
       "        </tr>\n",
       "        <tr>\n",
       "            <td>Stayed</td>\n",
       "            <td>72%</td>\n",
       "            <td>80%</td>\n",
       "            <td>57%</td>\n",
       "        </tr>\n",
       "    </tbody>\n",
       "</table>"
      ],
      "text/plain": [
       "[('Churned', '27%', '19%', '42%'), ('Stayed', '72%', '80%', '57%')]"
      ]
     },
     "execution_count": 13,
     "metadata": {},
     "output_type": "execute_result"
    }
   ],
   "source": [
    "%%sql\n",
    "\n",
    "SELECT \n",
    "customer_status,\n",
    "format('%2d%%',count(case when Internet_Type = 'Cable' then Internet_Type end)*100/(select count(case when Internet_Type = 'Cable' then Internet_Type end) from churndata where customer_status !='Joined')) as 'Cable',\n",
    "format('%2d%%',count(case when Internet_Type = 'DSL' then Internet_Type end)*100/(select count(case when Internet_Type = 'DSL' then Internet_Type end) from churndata where customer_status !='Joined')) as 'DSL',\n",
    "format('%2d%%',count(case when Internet_Type = 'Fiber Optic' then Internet_Type end)*100/(select count(case when Internet_Type = 'Fiber Optic' then Internet_Type end) from churndata where customer_status !='Joined')) as 'Fiber Optic'\n",
    "FROM churndata\n",
    "WHERE customer_status != 'Joined'\n",
    "GROUP BY customer_status;"
   ]
  },
  {
   "attachments": {},
   "cell_type": "markdown",
   "metadata": {},
   "source": [
    "**What is the average tenure for customers that have churned and stayed?**"
   ]
  },
  {
   "cell_type": "code",
   "execution_count": 17,
   "metadata": {},
   "outputs": [
    {
     "name": "stdout",
     "output_type": "stream",
     "text": [
      "*  sqlite:///custchurndb.db\n",
      "Done.\n"
     ]
    },
    {
     "data": {
      "text/html": [
       "<table>\n",
       "    <thead>\n",
       "        <tr>\n",
       "            <th>Customer_Status</th>\n",
       "            <th>Average Tenure</th>\n",
       "            <th>Average Referrals</th>\n",
       "        </tr>\n",
       "    </thead>\n",
       "    <tbody>\n",
       "        <tr>\n",
       "            <td>Churned</td>\n",
       "            <td>17.98</td>\n",
       "            <td>0.52</td>\n",
       "        </tr>\n",
       "        <tr>\n",
       "            <td>Stayed</td>\n",
       "            <td>41.04</td>\n",
       "            <td>2.61</td>\n",
       "        </tr>\n",
       "    </tbody>\n",
       "</table>"
      ],
      "text/plain": [
       "[('Churned', 17.98, 0.52), ('Stayed', 41.04, 2.61)]"
      ]
     },
     "execution_count": 17,
     "metadata": {},
     "output_type": "execute_result"
    }
   ],
   "source": [
    "%%sql\n",
    "\n",
    "SELECT customer_status, round(avg(Tenure_in_Months),2) as 'Average Tenure', round(avg(Number_of_Referrals),2) as 'Average Referrals'\n",
    "FROM churndata\n",
    "WHERE customer_status != 'Joined'\n",
    "GROUP BY customer_status;"
   ]
  },
  {
   "attachments": {},
   "cell_type": "markdown",
   "metadata": {},
   "source": [
    "**What are the churn counts based on tenure? What percentage customers churned at those tenure amounts?**"
   ]
  },
  {
   "cell_type": "code",
   "execution_count": 15,
   "metadata": {},
   "outputs": [
    {
     "name": "stdout",
     "output_type": "stream",
     "text": [
      "*  sqlite:///custchurndb.db\n",
      "Done.\n"
     ]
    },
    {
     "data": {
      "text/html": [
       "<table>\n",
       "    <thead>\n",
       "        <tr>\n",
       "            <th>Tenure_in_Months</th>\n",
       "            <th>Churn Count</th>\n",
       "            <th>Churn Percent</th>\n",
       "        </tr>\n",
       "    </thead>\n",
       "    <tbody>\n",
       "        <tr>\n",
       "            <td>1</td>\n",
       "            <td>380</td>\n",
       "            <td>20</td>\n",
       "        </tr>\n",
       "        <tr>\n",
       "            <td>2</td>\n",
       "            <td>123</td>\n",
       "            <td>6</td>\n",
       "        </tr>\n",
       "        <tr>\n",
       "            <td>3</td>\n",
       "            <td>94</td>\n",
       "            <td>5</td>\n",
       "        </tr>\n",
       "        <tr>\n",
       "            <td>4</td>\n",
       "            <td>83</td>\n",
       "            <td>4</td>\n",
       "        </tr>\n",
       "        <tr>\n",
       "            <td>5</td>\n",
       "            <td>64</td>\n",
       "            <td>3</td>\n",
       "        </tr>\n",
       "        <tr>\n",
       "            <td>7</td>\n",
       "            <td>51</td>\n",
       "            <td>2</td>\n",
       "        </tr>\n",
       "        <tr>\n",
       "            <td>9</td>\n",
       "            <td>46</td>\n",
       "            <td>2</td>\n",
       "        </tr>\n",
       "        <tr>\n",
       "            <td>10</td>\n",
       "            <td>45</td>\n",
       "            <td>2</td>\n",
       "        </tr>\n",
       "        <tr>\n",
       "            <td>8</td>\n",
       "            <td>42</td>\n",
       "            <td>2</td>\n",
       "        </tr>\n",
       "        <tr>\n",
       "            <td>6</td>\n",
       "            <td>40</td>\n",
       "            <td>2</td>\n",
       "        </tr>\n",
       "    </tbody>\n",
       "</table>"
      ],
      "text/plain": [
       "[(1, 380, 20),\n",
       " (2, 123, 6),\n",
       " (3, 94, 5),\n",
       " (4, 83, 4),\n",
       " (5, 64, 3),\n",
       " (7, 51, 2),\n",
       " (9, 46, 2),\n",
       " (10, 45, 2),\n",
       " (8, 42, 2),\n",
       " (6, 40, 2)]"
      ]
     },
     "execution_count": 15,
     "metadata": {},
     "output_type": "execute_result"
    }
   ],
   "source": [
    "%%sql\n",
    "\n",
    "SELECT Tenure_in_months,\n",
    "count(case when customer_status = 'Churned' then Customer_ID end) as 'Churn Count',\n",
    "count(case when customer_status = 'Churned' then customer_id end)*100/(SELECT count(case when customer_status = 'Churned' then customer_id end) FROM churndata) as 'Churn Percent'\n",
    "FROM churndata\n",
    "GROUP BY Tenure_in_months\n",
    "ORDER BY count(case when customer_status = 'Churned' then Customer_ID end) DESC\n",
    "LIMIT 10;"
   ]
  },
  {
   "attachments": {},
   "cell_type": "markdown",
   "metadata": {},
   "source": [
    "## Findings:\n",
    "- Month-To-Month contracts and Fiber Optic internet are the leading causes for customer churn.\n",
    "- 20% of churned customers left after their first month.\n",
    "- San Diego saw the most churned customers due to competitors."
   ]
  }
 ],
 "metadata": {
  "kernelspec": {
   "display_name": "Python 3",
   "language": "python",
   "name": "python3"
  },
  "language_info": {
   "codemirror_mode": {
    "name": "ipython",
    "version": 3
   },
   "file_extension": ".py",
   "mimetype": "text/x-python",
   "name": "python",
   "nbconvert_exporter": "python",
   "pygments_lexer": "ipython3",
   "version": "3.10.9"
  },
  "orig_nbformat": 4
 },
 "nbformat": 4,
 "nbformat_minor": 2
}
